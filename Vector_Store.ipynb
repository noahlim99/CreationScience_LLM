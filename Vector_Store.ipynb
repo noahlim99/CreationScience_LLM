{
  "cells": [
    {
      "cell_type": "markdown",
      "metadata": {
        "id": "F7RflegLd2qS"
      },
      "source": []
    },
    {
      "cell_type": "code",
      "execution_count": null,
      "metadata": {},
      "outputs": [],
      "source": [
        "import os\n",
        "api_key = os.environ.get(\"OPENAI_API_KEY\")"
      ]
    },
    {
      "cell_type": "markdown",
      "metadata": {
        "id": "6fRM41CGqhhs"
      },
      "source": [
        "# **Splitting**"
      ]
    },
    {
      "cell_type": "code",
      "execution_count": 1,
      "metadata": {
        "id": "GIcvK8o3qdZ6"
      },
      "outputs": [],
      "source": [
        "from langchain.text_splitter import RecursiveCharacterTextSplitter\n",
        "from langchain.schema import Document\n",
        "import json"
      ]
    },
    {
      "cell_type": "code",
      "execution_count": null,
      "metadata": {},
      "outputs": [],
      "source": [
        "# 현재 워킹 디렉토리 설정\n",
        "current_dir = os.getcwd()"
      ]
    },
    {
      "cell_type": "code",
      "execution_count": 18,
      "metadata": {
        "colab": {
          "base_uri": "https://localhost:8080/"
        },
        "id": "QjQDM06XqKdZ",
        "outputId": "92d7693e-76c6-4ebc-911c-54664ae96084"
      },
      "outputs": [
        {
          "name": "stdout",
          "output_type": "stream",
          "text": [
            "109개 문서 처리 완료.\n"
          ]
        }
      ],
      "source": [
        "output_dir = os.path.join(current_dir, \"output\")  # \"output\" 폴더 경로 설정\n",
        "\n",
        "pages = []\n",
        "\n",
        "# output_dir 안의 모든 파일 처리\n",
        "if os.path.exists(output_dir):  # output 폴더 존재 여부 확인\n",
        "    for file_name in os.listdir(output_dir):\n",
        "        if file_name.endswith(\".json\"):  # JSON 파일\n",
        "            file_path = os.path.join(output_dir, file_name)\n",
        "            with open(file_path, \"r\", encoding=\"utf-8\") as f:\n",
        "                try:\n",
        "                    data = json.load(f)  # JSON 데이터 로드\n",
        "                    content = data.get(\"content\", \"\")  # \"content\" 키의 값 가져오기\n",
        "                    if content.strip():\n",
        "                        # Document 객체로 변환\n",
        "                        pages.append(Document(page_content=content))\n",
        "                except json.JSONDecodeError:\n",
        "                    print(f\"파일 {file_name}은 올바른 JSON 형식이 아닙니다.\")\n",
        "else:\n",
        "    print(f\"{output_dir} 디렉토리가 존재하지 않습니다.\")\n",
        "\n",
        "print(f\"{len(pages)}개 문서 처리 완료\")\n"
      ]
    },
    {
      "cell_type": "code",
      "execution_count": 4,
      "metadata": {
        "id": "Rd_7-fbbrOf3"
      },
      "outputs": [],
      "source": [
        "# Text Splitter 설정\n",
        "text_splitter = RecursiveCharacterTextSplitter(\n",
        "    chunk_size=1000,  # 각 청크의 최대 문자 수\n",
        "    chunk_overlap=100  # 청크 간 중복 문자 수\n",
        ")"
      ]
    },
    {
      "cell_type": "code",
      "execution_count": 5,
      "metadata": {
        "id": "Vc1YktscpzSf"
      },
      "outputs": [],
      "source": [
        "docs = text_splitter.split_documents(pages)"
      ]
    },
    {
      "cell_type": "markdown",
      "metadata": {
        "id": "AJ944hNxnULs"
      },
      "source": [
        "# **Embedding**"
      ]
    },
    {
      "cell_type": "code",
      "execution_count": 7,
      "metadata": {
        "id": "Vln4b7FBnruB"
      },
      "outputs": [],
      "source": [
        "from langchain.embeddings.openai import OpenAIEmbeddings"
      ]
    },
    {
      "cell_type": "code",
      "execution_count": 8,
      "metadata": {
        "colab": {
          "base_uri": "https://localhost:8080/"
        },
        "id": "xJbNlYKNqgHC",
        "outputId": "08a3cfdd-0a04-46d5-ec4f-d3ef59a49a11"
      },
      "outputs": [
        {
          "name": "stderr",
          "output_type": "stream",
          "text": [
            "/var/folders/pb/tqmxz14n6ps9b507bx6376bh0000gn/T/ipykernel_6510/1742019979.py:2: LangChainDeprecationWarning: The class `OpenAIEmbeddings` was deprecated in LangChain 0.0.9 and will be removed in 1.0. An updated version of the class exists in the :class:`~langchain-openai package and should be used instead. To use it run `pip install -U :class:`~langchain-openai` and import as `from :class:`~langchain_openai import OpenAIEmbeddings``.\n",
            "  embedding_model = OpenAIEmbeddings(model=\"text-embedding-ada-002\")\n"
          ]
        }
      ],
      "source": [
        "# OpenAI Embedding 모델 설정\n",
        "embedding_model = OpenAIEmbeddings(model=\"text-embedding-ada-002\")"
      ]
    },
    {
      "cell_type": "markdown",
      "metadata": {
        "id": "2BqKJkUgnxwN"
      },
      "source": [
        "# **Vector Store**"
      ]
    },
    {
      "cell_type": "code",
      "execution_count": 9,
      "metadata": {
        "id": "nufPVxbcn4oS"
      },
      "outputs": [],
      "source": [
        "from langchain.vectorstores import Chroma"
      ]
    },
    {
      "cell_type": "code",
      "execution_count": 13,
      "metadata": {
        "colab": {
          "base_uri": "https://localhost:8080/"
        },
        "id": "dBp1Vr6op7BT",
        "outputId": "489e07b4-dcc5-4bed-f06a-2662d8b42958"
      },
      "outputs": [
        {
          "name": "stdout",
          "output_type": "stream",
          "text": [
            "Chroma 벡터 스토어 저장 완료: /Users/jihoonlim/Desktop/RAG/store\n"
          ]
        }
      ],
      "source": [
        "#Chroma 벡터 스토어 생성 및 저장\n",
        "\n",
        "db_dir = os.path.join(current_dir, \"store\")\n",
        "db = Chroma.from_documents(\n",
        "    documents=docs,\n",
        "    embedding=embedding_model,\n",
        "    persist_directory=db_dir\n",
        ")\n",
        "\n",
        "print(f\"Chroma 벡터 스토어 저장 완료: {db_dir}\")"
      ]
    },
    {
      "cell_type": "markdown",
      "metadata": {
        "id": "mQeLvclCqPGc"
      },
      "source": [
        "# **Retrieve**"
      ]
    },
    {
      "cell_type": "code",
      "execution_count": 14,
      "metadata": {
        "id": "RargWBFCwBkI"
      },
      "outputs": [],
      "source": [
        "# MMR 기반 검색 설정\n",
        "retriever = db.as_retriever(\n",
        "    search_type=\"mmr\",\n",
        "    search_kwargs={\n",
        "        \"k\": 1,\n",
        "        \"lambda_mult\": 0.8\n",
        "    }\n",
        ")"
      ]
    },
    {
      "cell_type": "code",
      "execution_count": 15,
      "metadata": {
        "colab": {
          "base_uri": "https://localhost:8080/"
        },
        "id": "mSWP286rwxZ4",
        "outputId": "acf76442-fe79-4aba-95f7-b9c3fa6a8af6"
      },
      "outputs": [
        {
          "name": "stderr",
          "output_type": "stream",
          "text": [
            "/var/folders/pb/tqmxz14n6ps9b507bx6376bh0000gn/T/ipykernel_6510/3181881712.py:3: LangChainDeprecationWarning: The method `BaseRetriever.get_relevant_documents` was deprecated in langchain-core 0.1.46 and will be removed in 1.0. Use :meth:`~invoke` instead.\n",
            "  retrieved_docs = retriever.get_relevant_documents(question)\n"
          ]
        }
      ],
      "source": [
        "# 검색 테스트 및 RAG 시스템에서 사용할 Context 생성\n",
        "question = \"빅뱅이론과 연대측정에 대해 설명해줘.\"\n",
        "retrieved_docs = retriever.get_relevant_documents(question)\n",
        "context = \"\\n\".join([doc.page_content for doc in retrieved_docs])"
      ]
    },
    {
      "cell_type": "code",
      "execution_count": 16,
      "metadata": {
        "colab": {
          "base_uri": "https://localhost:8080/"
        },
        "id": "e65YlXoetEWF",
        "outputId": "4a3af41e-96b3-43fb-bb83-323f706743f6"
      },
      "outputs": [
        {
          "name": "stdout",
          "output_type": "stream",
          "text": [
            "검색된 문서 개수: 1\n",
            "생성된 컨텍스트 일부:\n",
            "사실은 빅뱅 이론에 반대되는 실험 결과나 관측들은 종종 과학적 보고에 제한될 수 있음을 보여주는 것이다.[3] 그러나 이 결과는 전혀 기괴한 것이 아니며, 초기의 비교적 거칠었던 반양성자의 자기모멘트 측정 연구 결과를 다시 한번 확인해주는 것이었다. 빅뱅 이론의 예측과 달리, 이러한 측정은 실험 가능하고, 반복 가능한, 실제 과학이었다. 이 결과는 빅뱅 이론의 신봉자에게만 오직 기이한 것이다.빅뱅 이론으로는 우리의 우주가 존재하지 않아야한다는 결론을 얻은 것은 이번이 처음이 아니다.[4] 빅뱅 과학자들은 그들의 고집스런 주장을 계속하기 위해서는 신뢰할만한 증거들을 제시해야만 한다. 그러나 관측되는 증거들은 빅뱅 이론과 반대된다.빅뱅 과학자들은 빅뱅 이론에 반대되는 그 어떠한 관측 사실도 받아들이지 않는다.빅뱅이 사실이라면 우주가 존재해서는 안 된다는 결론조차도 말이다!빅뱅은 언제나 지지되지 않았던 추측이었다.왜 세속주의자들은 모든 것들의 존재를 창조주를 배제하고 설명하기 위해, 그러\n"
          ]
        }
      ],
      "source": [
        "if retrieved_docs:\n",
        "    print(f\"검색된 문서 개수: {len(retrieved_docs)}\")\n",
        "    print(context)"
      ]
    }
  ],
  "metadata": {
    "colab": {
      "provenance": []
    },
    "kernelspec": {
      "display_name": ".venv",
      "language": "python",
      "name": "python3"
    },
    "language_info": {
      "codemirror_mode": {
        "name": "ipython",
        "version": 3
      },
      "file_extension": ".py",
      "mimetype": "text/x-python",
      "name": "python",
      "nbconvert_exporter": "python",
      "pygments_lexer": "ipython3",
      "version": "3.13.1"
    }
  },
  "nbformat": 4,
  "nbformat_minor": 0
}
